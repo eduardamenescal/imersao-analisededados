{
  "nbformat": 4,
  "nbformat_minor": 0,
  "metadata": {
    "colab": {
      "provenance": [],
      "authorship_tag": "ABX9TyOzwNWALUi3zTG4vf5gxbYl",
      "include_colab_link": true
    },
    "kernelspec": {
      "name": "python3",
      "display_name": "Python 3"
    },
    "language_info": {
      "name": "python"
    }
  },
  "cells": [
    {
      "cell_type": "markdown",
      "metadata": {
        "id": "view-in-github",
        "colab_type": "text"
      },
      "source": [
        "<a href=\"https://colab.research.google.com/github/eduardamenescal/imersao-analisededados/blob/main/Python_Aula1.ipynb\" target=\"_parent\"><img src=\"https://colab.research.google.com/assets/colab-badge.svg\" alt=\"Open In Colab\"/></a>"
      ]
    },
    {
      "cell_type": "markdown",
      "source": [
        "# Python"
      ],
      "metadata": {
        "id": "xgWXF02BHMpD"
      }
    },
    {
      "cell_type": "code",
      "execution_count": null,
      "metadata": {
        "id": "cnNpMUP99Erq",
        "colab": {
          "base_uri": "https://localhost:8080/",
          "height": 35
        },
        "outputId": "1720b2a9-2e57-4b30-a746-d50f5846d55c"
      },
      "outputs": [
        {
          "output_type": "execute_result",
          "data": {
            "text/plain": [
              "'Olá Mundo'"
            ],
            "application/vnd.google.colaboratory.intrinsic+json": {
              "type": "string"
            }
          },
          "metadata": {},
          "execution_count": 1
        }
      ],
      "source": [
        "\"Olá Mundo\""
      ]
    },
    {
      "cell_type": "code",
      "source": [
        "print(\"Olá Mundo\")"
      ],
      "metadata": {
        "colab": {
          "base_uri": "https://localhost:8080/"
        },
        "id": "6hg_cu9AF8l1",
        "outputId": "0e086396-9fe0-4d26-e245-5790d2c76a38"
      },
      "execution_count": null,
      "outputs": [
        {
          "output_type": "stream",
          "name": "stdout",
          "text": [
            "Olá Mundo\n"
          ]
        }
      ]
    },
    {
      "cell_type": "markdown",
      "source": [
        "# Operações Matemáticas"
      ],
      "metadata": {
        "id": "je3d5NpwHWyj"
      }
    },
    {
      "cell_type": "code",
      "source": [
        "# Operação de soma\n",
        "2 + 2"
      ],
      "metadata": {
        "colab": {
          "base_uri": "https://localhost:8080/"
        },
        "id": "qQ2HDUi2Hex4",
        "outputId": "23d561d4-176b-4e2c-881a-4ed35afd8135"
      },
      "execution_count": null,
      "outputs": [
        {
          "output_type": "execute_result",
          "data": {
            "text/plain": [
              "4"
            ]
          },
          "metadata": {},
          "execution_count": 5
        }
      ]
    },
    {
      "cell_type": "code",
      "source": [
        "# Subtração\n",
        "\n",
        "10 - 5"
      ],
      "metadata": {
        "colab": {
          "base_uri": "https://localhost:8080/"
        },
        "id": "_gLDBKy0H4ra",
        "outputId": "924fe387-0526-4b96-f974-32a6018aba71"
      },
      "execution_count": null,
      "outputs": [
        {
          "output_type": "execute_result",
          "data": {
            "text/plain": [
              "5"
            ]
          },
          "metadata": {},
          "execution_count": 7
        }
      ]
    },
    {
      "cell_type": "code",
      "source": [
        "# Multiplicação\n",
        "\n",
        "5 * 2"
      ],
      "metadata": {
        "colab": {
          "base_uri": "https://localhost:8080/"
        },
        "id": "FZLdPBo2H9YO",
        "outputId": "0654fe31-d041-448b-c474-ae0f57acbb06"
      },
      "execution_count": null,
      "outputs": [
        {
          "output_type": "execute_result",
          "data": {
            "text/plain": [
              "10"
            ]
          },
          "metadata": {},
          "execution_count": 9
        }
      ]
    },
    {
      "cell_type": "code",
      "source": [
        "# Exponenciação\n",
        "\n",
        "5 ** 2"
      ],
      "metadata": {
        "colab": {
          "base_uri": "https://localhost:8080/"
        },
        "id": "1f6lrNi4IG9A",
        "outputId": "cec56ac7-e8fa-4aa7-e2af-5ce5f2e9d562"
      },
      "execution_count": null,
      "outputs": [
        {
          "output_type": "execute_result",
          "data": {
            "text/plain": [
              "25"
            ]
          },
          "metadata": {},
          "execution_count": 10
        }
      ]
    },
    {
      "cell_type": "code",
      "source": [
        "# Divisão\n",
        "\n",
        "10 / 3"
      ],
      "metadata": {
        "colab": {
          "base_uri": "https://localhost:8080/"
        },
        "id": "auEJsLbqIKBv",
        "outputId": "78965903-9036-4755-b3bb-fea840aacffc"
      },
      "execution_count": null,
      "outputs": [
        {
          "output_type": "execute_result",
          "data": {
            "text/plain": [
              "3.3333333333333335"
            ]
          },
          "metadata": {},
          "execution_count": 12
        }
      ]
    },
    {
      "cell_type": "code",
      "source": [
        "# Divisão Inteira quando usar o //\n",
        "\n",
        "10 //  3"
      ],
      "metadata": {
        "colab": {
          "base_uri": "https://localhost:8080/"
        },
        "id": "Kwva-KV3IzE1",
        "outputId": "c8f101dc-7329-4793-a3ac-1ba4212a8eec"
      },
      "execution_count": null,
      "outputs": [
        {
          "output_type": "execute_result",
          "data": {
            "text/plain": [
              "3"
            ]
          },
          "metadata": {},
          "execution_count": 14
        }
      ]
    },
    {
      "cell_type": "code",
      "source": [
        "# Divisão com % - é o resto da divisão\n",
        "\n",
        "10 % 3"
      ],
      "metadata": {
        "colab": {
          "base_uri": "https://localhost:8080/"
        },
        "id": "1TuGK0X-JOeQ",
        "outputId": "d158ebce-da6a-4d09-8ce6-0b5f54c39167"
      },
      "execution_count": null,
      "outputs": [
        {
          "output_type": "execute_result",
          "data": {
            "text/plain": [
              "1"
            ]
          },
          "metadata": {},
          "execution_count": 16
        }
      ]
    },
    {
      "cell_type": "code",
      "source": [
        "# Arredondamento\n",
        "\n",
        "round(10 / 3, 2) # Arredondou 10 dividido por 3 com duas casas decimais"
      ],
      "metadata": {
        "colab": {
          "base_uri": "https://localhost:8080/"
        },
        "id": "MzW261NcI_OF",
        "outputId": "54151132-b42e-409c-c564-8f46b03dfba9"
      },
      "execution_count": null,
      "outputs": [
        {
          "output_type": "execute_result",
          "data": {
            "text/plain": [
              "3.33"
            ]
          },
          "metadata": {},
          "execution_count": 15
        }
      ]
    },
    {
      "cell_type": "markdown",
      "source": [
        "# Variáveis"
      ],
      "metadata": {
        "id": "5pUhB5XcM2ot"
      }
    },
    {
      "cell_type": "code",
      "source": [
        "a = 5\n",
        "b = 10\n",
        "\n",
        "a + b"
      ],
      "metadata": {
        "colab": {
          "base_uri": "https://localhost:8080/"
        },
        "id": "iUpfbK78NEv5",
        "outputId": "6d8a10a3-92c6-4d60-ad55-de0badcb7981"
      },
      "execution_count": 32,
      "outputs": [
        {
          "output_type": "execute_result",
          "data": {
            "text/plain": [
              "15"
            ]
          },
          "metadata": {},
          "execution_count": 32
        }
      ]
    },
    {
      "cell_type": "code",
      "source": [
        "## Para saber o tipo da váriavel use o comando type\n",
        "type(a)"
      ],
      "metadata": {
        "colab": {
          "base_uri": "https://localhost:8080/"
        },
        "id": "Zq7twvRGNfuE",
        "outputId": "12610a40-706d-441a-f33f-05a6e7df5eaa"
      },
      "execution_count": 33,
      "outputs": [
        {
          "output_type": "execute_result",
          "data": {
            "text/plain": [
              "int"
            ]
          },
          "metadata": {},
          "execution_count": 33
        }
      ]
    },
    {
      "cell_type": "code",
      "source": [
        "a == b"
      ],
      "metadata": {
        "colab": {
          "base_uri": "https://localhost:8080/"
        },
        "id": "6FmZ6ylTNhZZ",
        "outputId": "eca3847f-2e91-4e42-b7d2-7cf10e3719d6"
      },
      "execution_count": 37,
      "outputs": [
        {
          "output_type": "execute_result",
          "data": {
            "text/plain": [
              "False"
            ]
          },
          "metadata": {},
          "execution_count": 37
        }
      ]
    },
    {
      "cell_type": "code",
      "source": [
        "idade = 31\n",
        "nome = \"Eduarda\""
      ],
      "metadata": {
        "id": "l_qa0MAsOTaN"
      },
      "execution_count": 38,
      "outputs": []
    },
    {
      "cell_type": "code",
      "source": [
        "print(\"Meu nome é\", nome, \"e minha idade é\", idade)"
      ],
      "metadata": {
        "colab": {
          "base_uri": "https://localhost:8080/"
        },
        "id": "g400WaVEOjJd",
        "outputId": "2094b099-19c5-4bdc-8124-c8866a98d5ec"
      },
      "execution_count": 44,
      "outputs": [
        {
          "output_type": "stream",
          "name": "stdout",
          "text": [
            "Meu nome é Eduarda e minha idade é 31\n"
          ]
        }
      ]
    },
    {
      "cell_type": "code",
      "source": [
        "## f no print, é de format\n",
        "\n",
        "print(f\"Meu nome é {nome} e minha idade é {idade}\")"
      ],
      "metadata": {
        "colab": {
          "base_uri": "https://localhost:8080/"
        },
        "id": "sipYG18cPC1L",
        "outputId": "5facb8a2-2787-4ccb-d12a-5ae459e03f6f"
      },
      "execution_count": 46,
      "outputs": [
        {
          "output_type": "stream",
          "name": "stdout",
          "text": [
            "Meu nome é Eduarda e minha idade é 31\n"
          ]
        }
      ]
    },
    {
      "cell_type": "code",
      "source": [
        "type(nome)"
      ],
      "metadata": {
        "colab": {
          "base_uri": "https://localhost:8080/"
        },
        "id": "F3dQOXkUP5rA",
        "outputId": "340e49be-36cf-482f-db0a-25b40db2e1c1"
      },
      "execution_count": 47,
      "outputs": [
        {
          "output_type": "execute_result",
          "data": {
            "text/plain": [
              "str"
            ]
          },
          "metadata": {},
          "execution_count": 47
        }
      ]
    },
    {
      "cell_type": "markdown",
      "source": [
        "# Trabalhando com Strings"
      ],
      "metadata": {
        "id": "Y9tox71LP9gh"
      }
    },
    {
      "cell_type": "code",
      "source": [
        "texto = \"estou aprendendo python para análise de dados\""
      ],
      "metadata": {
        "id": "5WOXJsVbP7wH"
      },
      "execution_count": 48,
      "outputs": []
    },
    {
      "cell_type": "code",
      "source": [
        "# A indexação em python começa em zero\n",
        "\n",
        "texto[0]"
      ],
      "metadata": {
        "colab": {
          "base_uri": "https://localhost:8080/",
          "height": 35
        },
        "id": "IHOhdDbBQSVF",
        "outputId": "17be54ad-89a6-4f73-c16d-2ba306341793"
      },
      "execution_count": 49,
      "outputs": [
        {
          "output_type": "execute_result",
          "data": {
            "text/plain": [
              "'E'"
            ],
            "application/vnd.google.colaboratory.intrinsic+json": {
              "type": "string"
            }
          },
          "metadata": {},
          "execution_count": 49
        }
      ]
    },
    {
      "cell_type": "code",
      "source": [
        "texto[0:23]"
      ],
      "metadata": {
        "colab": {
          "base_uri": "https://localhost:8080/",
          "height": 35
        },
        "id": "XxP7ews5QgPf",
        "outputId": "e4025325-09a4-4429-a258-ed191db022f7"
      },
      "execution_count": 51,
      "outputs": [
        {
          "output_type": "execute_result",
          "data": {
            "text/plain": [
              "'Estou aprendendo python'"
            ],
            "application/vnd.google.colaboratory.intrinsic+json": {
              "type": "string"
            }
          },
          "metadata": {},
          "execution_count": 51
        }
      ]
    },
    {
      "cell_type": "code",
      "source": [
        "# Imprimir o texto Maiúsculo\n",
        "\n",
        "texto.upper ()"
      ],
      "metadata": {
        "colab": {
          "base_uri": "https://localhost:8080/",
          "height": 35
        },
        "id": "hy1tmnAYQ_kn",
        "outputId": "f4f448e8-29d1-4702-bb22-ecdef42ae61b"
      },
      "execution_count": 52,
      "outputs": [
        {
          "output_type": "execute_result",
          "data": {
            "text/plain": [
              "'ESTOU APRENDENDO PYTHON PARA ANÁLISE DE DADOS'"
            ],
            "application/vnd.google.colaboratory.intrinsic+json": {
              "type": "string"
            }
          },
          "metadata": {},
          "execution_count": 52
        }
      ]
    },
    {
      "cell_type": "code",
      "source": [
        "## Para que o texto seja todo em maiusculo eu preciso atribuir a váriavel com o comando upper\n",
        "texto = texto.upper()\n",
        "texto"
      ],
      "metadata": {
        "colab": {
          "base_uri": "https://localhost:8080/",
          "height": 35
        },
        "id": "TQgoWByLRsak",
        "outputId": "b6e611a6-7bdc-4e08-971f-3778cb2a870c"
      },
      "execution_count": 56,
      "outputs": [
        {
          "output_type": "execute_result",
          "data": {
            "text/plain": [
              "'ESTOU APRENDENDO PYTHON PARA ANÁLISE DE DADOS'"
            ],
            "application/vnd.google.colaboratory.intrinsic+json": {
              "type": "string"
            }
          },
          "metadata": {},
          "execution_count": 56
        }
      ]
    },
    {
      "cell_type": "code",
      "source": [
        "# Colocar toda frase em minusculo\n",
        "texto.lower()"
      ],
      "metadata": {
        "colab": {
          "base_uri": "https://localhost:8080/",
          "height": 35
        },
        "id": "wVikDja8Ruzn",
        "outputId": "c2d962d3-1934-4ec4-e4be-a523929d0eca"
      },
      "execution_count": 60,
      "outputs": [
        {
          "output_type": "execute_result",
          "data": {
            "text/plain": [
              "'estou aprendendo python para análise de dados'"
            ],
            "application/vnd.google.colaboratory.intrinsic+json": {
              "type": "string"
            }
          },
          "metadata": {},
          "execution_count": 60
        }
      ]
    },
    {
      "cell_type": "code",
      "source": [
        "# Apenas a primeira letra em maiúsculo\n",
        "\n",
        "texto.capitalize()"
      ],
      "metadata": {
        "colab": {
          "base_uri": "https://localhost:8080/",
          "height": 35
        },
        "id": "0p5o4rJzSC59",
        "outputId": "2fa99b77-2361-42bd-c8c4-330e7e86a400"
      },
      "execution_count": 58,
      "outputs": [
        {
          "output_type": "execute_result",
          "data": {
            "text/plain": [
              "'Estou aprendendo python para análise de dados'"
            ],
            "application/vnd.google.colaboratory.intrinsic+json": {
              "type": "string"
            }
          },
          "metadata": {},
          "execution_count": 58
        }
      ]
    },
    {
      "cell_type": "code",
      "source": [
        "# Colocar cada primeira letra de cada palavra em maiúsculo\n",
        "\n",
        "texto.title()"
      ],
      "metadata": {
        "colab": {
          "base_uri": "https://localhost:8080/",
          "height": 35
        },
        "id": "eDSgWcYNSKam",
        "outputId": "1b51824c-69d8-406f-bd15-d2efd0e45351"
      },
      "execution_count": 59,
      "outputs": [
        {
          "output_type": "execute_result",
          "data": {
            "text/plain": [
              "'Estou Aprendendo Python Para Análise De Dados'"
            ],
            "application/vnd.google.colaboratory.intrinsic+json": {
              "type": "string"
            }
          },
          "metadata": {},
          "execution_count": 59
        }
      ]
    },
    {
      "cell_type": "code",
      "source": [
        "frase = texto.replace(\"ANÁLISE\", \"CIÊNCIA\")"
      ],
      "metadata": {
        "id": "sTqNDSzeSYZf"
      },
      "execution_count": 62,
      "outputs": []
    },
    {
      "cell_type": "code",
      "source": [
        "frase"
      ],
      "metadata": {
        "colab": {
          "base_uri": "https://localhost:8080/",
          "height": 35
        },
        "id": "n8TXrSADS2Dh",
        "outputId": "cd92d957-ebcb-425f-8360-917ac055d608"
      },
      "execution_count": 65,
      "outputs": [
        {
          "output_type": "execute_result",
          "data": {
            "text/plain": [
              "'ESTOU APRENDENDO PYTHON PARA CIÊNCIA DE DADOS'"
            ],
            "application/vnd.google.colaboratory.intrinsic+json": {
              "type": "string"
            }
          },
          "metadata": {},
          "execution_count": 65
        }
      ]
    },
    {
      "cell_type": "code",
      "source": [
        "# Para saber se o nome está na variável criada, nesse caso, procuramos saber se o nome \"ANÁLISE\" está na variável Frase\n",
        "\n",
        "\"ANÁLISE\" in frase"
      ],
      "metadata": {
        "colab": {
          "base_uri": "https://localhost:8080/"
        },
        "id": "sZNLrxZFT0em",
        "outputId": "8b21f775-8fa6-4239-b6c4-c8b870a6fe1c"
      },
      "execution_count": 66,
      "outputs": [
        {
          "output_type": "execute_result",
          "data": {
            "text/plain": [
              "False"
            ]
          },
          "metadata": {},
          "execution_count": 66
        }
      ]
    },
    {
      "cell_type": "code",
      "source": [
        "\"CIÊNCIA\" in frase"
      ],
      "metadata": {
        "colab": {
          "base_uri": "https://localhost:8080/"
        },
        "id": "Z_c4Skf8T3s0",
        "outputId": "95b4162b-9fdb-473f-b3f8-a4ed6f7d65e0"
      },
      "execution_count": 68,
      "outputs": [
        {
          "output_type": "execute_result",
          "data": {
            "text/plain": [
              "True"
            ]
          },
          "metadata": {},
          "execution_count": 68
        }
      ]
    },
    {
      "cell_type": "markdown",
      "source": [
        "# Estrutura de Dados"
      ],
      "metadata": {
        "id": "l6Nmkpo0UV_g"
      }
    },
    {
      "cell_type": "code",
      "source": [
        "# LISTAS\n",
        "# Sintaxe para criar uma lista é []\n",
        "\n",
        "animais = [1,2,3]\n",
        "animais"
      ],
      "metadata": {
        "colab": {
          "base_uri": "https://localhost:8080/"
        },
        "id": "l4spl2-aUasY",
        "outputId": "a9b69740-ea4f-4833-dcdf-bc8e2af59104"
      },
      "execution_count": 70,
      "outputs": [
        {
          "output_type": "execute_result",
          "data": {
            "text/plain": [
              "[1, 2, 3]"
            ]
          },
          "metadata": {},
          "execution_count": 70
        }
      ]
    },
    {
      "cell_type": "code",
      "source": [
        "type(animais)"
      ],
      "metadata": {
        "colab": {
          "base_uri": "https://localhost:8080/"
        },
        "id": "m8WTO-zNUoXe",
        "outputId": "66a2bcf1-d5c6-4ae6-c985-16df06d77ebf"
      },
      "execution_count": 71,
      "outputs": [
        {
          "output_type": "execute_result",
          "data": {
            "text/plain": [
              "list"
            ]
          },
          "metadata": {},
          "execution_count": 71
        }
      ]
    },
    {
      "cell_type": "code",
      "source": [
        "animais = [\"gato\", \"cachorro\", 1,2,3]\n",
        "animais"
      ],
      "metadata": {
        "colab": {
          "base_uri": "https://localhost:8080/"
        },
        "id": "rdflmtz9Us7E",
        "outputId": "4b6eda86-4664-40b7-f23a-d69c671976a9"
      },
      "execution_count": 72,
      "outputs": [
        {
          "output_type": "execute_result",
          "data": {
            "text/plain": [
              "['gato', 'cachorro', 1, 2, 3]"
            ]
          },
          "metadata": {},
          "execution_count": 72
        }
      ]
    },
    {
      "cell_type": "code",
      "source": [
        "animais[1]"
      ],
      "metadata": {
        "colab": {
          "base_uri": "https://localhost:8080/",
          "height": 35
        },
        "id": "MNkcLotjU_82",
        "outputId": "2594338c-66de-437f-e3e8-fa18062ed111"
      },
      "execution_count": 73,
      "outputs": [
        {
          "output_type": "execute_result",
          "data": {
            "text/plain": [
              "'cachorro'"
            ],
            "application/vnd.google.colaboratory.intrinsic+json": {
              "type": "string"
            }
          },
          "metadata": {},
          "execution_count": 73
        }
      ]
    },
    {
      "cell_type": "code",
      "source": [
        "# Retornar o ultimo elemento de uma lista, usar o -1\n",
        "\n",
        "animais[-1]"
      ],
      "metadata": {
        "colab": {
          "base_uri": "https://localhost:8080/"
        },
        "id": "FB_YynPeVKgK",
        "outputId": "5b319f4d-aba7-48d6-caf8-6ac7302d2d8c"
      },
      "execution_count": 74,
      "outputs": [
        {
          "output_type": "execute_result",
          "data": {
            "text/plain": [
              "3"
            ]
          },
          "metadata": {},
          "execution_count": 74
        }
      ]
    },
    {
      "cell_type": "code",
      "source": [
        "\"cavalo\" in animais"
      ],
      "metadata": {
        "colab": {
          "base_uri": "https://localhost:8080/"
        },
        "id": "By-Jo-UTV5Qh",
        "outputId": "6497376f-c9c8-482c-e6e6-aafd83a4d5e2"
      },
      "execution_count": 75,
      "outputs": [
        {
          "output_type": "execute_result",
          "data": {
            "text/plain": [
              "False"
            ]
          },
          "metadata": {},
          "execution_count": 75
        }
      ]
    },
    {
      "cell_type": "code",
      "source": [
        "\"gato\" in animais"
      ],
      "metadata": {
        "colab": {
          "base_uri": "https://localhost:8080/"
        },
        "id": "eeD0XTH3V7ZE",
        "outputId": "cbb9ab9a-86c7-47ba-fcf8-e40a08676055"
      },
      "execution_count": 76,
      "outputs": [
        {
          "output_type": "execute_result",
          "data": {
            "text/plain": [
              "True"
            ]
          },
          "metadata": {},
          "execution_count": 76
        }
      ]
    },
    {
      "cell_type": "code",
      "source": [
        "# Remover valor da lista\n",
        "animais.remove(\"gato\")"
      ],
      "metadata": {
        "colab": {
          "base_uri": "https://localhost:8080/",
          "height": 162
        },
        "id": "z_2q2XkfV99q",
        "outputId": "8d462448-c100-416e-bebd-2d2dcf72de95"
      },
      "execution_count": 80,
      "outputs": [
        {
          "output_type": "error",
          "ename": "ValueError",
          "evalue": "list.remove(x): x not in list",
          "traceback": [
            "\u001b[0;31m---------------------------------------------------------------------------\u001b[0m",
            "\u001b[0;31mValueError\u001b[0m                                Traceback (most recent call last)",
            "\u001b[0;32m/tmp/ipython-input-359385868.py\u001b[0m in \u001b[0;36m<cell line: 0>\u001b[0;34m()\u001b[0m\n\u001b[1;32m      1\u001b[0m \u001b[0;31m# Remover valor da lista\u001b[0m\u001b[0;34m\u001b[0m\u001b[0;34m\u001b[0m\u001b[0m\n\u001b[0;32m----> 2\u001b[0;31m \u001b[0manimais\u001b[0m\u001b[0;34m.\u001b[0m\u001b[0mremove\u001b[0m\u001b[0;34m(\u001b[0m\u001b[0;34m\"gato\"\u001b[0m\u001b[0;34m)\u001b[0m\u001b[0;34m\u001b[0m\u001b[0;34m\u001b[0m\u001b[0m\n\u001b[0m",
            "\u001b[0;31mValueError\u001b[0m: list.remove(x): x not in list"
          ]
        }
      ]
    },
    {
      "cell_type": "code",
      "source": [
        "animais"
      ],
      "metadata": {
        "colab": {
          "base_uri": "https://localhost:8080/"
        },
        "id": "A9UG9zabWOml",
        "outputId": "c49e0455-7bf9-49a8-8f87-d60c3e3cdffa"
      },
      "execution_count": 81,
      "outputs": [
        {
          "output_type": "execute_result",
          "data": {
            "text/plain": [
              "['cachorro', 1, 2, 3]"
            ]
          },
          "metadata": {},
          "execution_count": 81
        }
      ]
    },
    {
      "cell_type": "code",
      "source": [
        "# Remover elemento da lista\n",
        "animais.pop(0)\n"
      ],
      "metadata": {
        "colab": {
          "base_uri": "https://localhost:8080/"
        },
        "id": "bbOVGbP0WQVU",
        "outputId": "568cbd41-149d-4272-9a66-19c6f50255e9"
      },
      "execution_count": 83,
      "outputs": [
        {
          "output_type": "execute_result",
          "data": {
            "text/plain": [
              "1"
            ]
          },
          "metadata": {},
          "execution_count": 83
        }
      ]
    },
    {
      "cell_type": "code",
      "source": [
        "# o comando APPEND só aceita 1 argumento\n",
        "animais.append(\"gato\")\n",
        "animais\n",
        "animais.remove(\"gato\")\n",
        "animais"
      ],
      "metadata": {
        "colab": {
          "base_uri": "https://localhost:8080/"
        },
        "id": "KeB-RToNWdxR",
        "outputId": "902037b9-84a8-4ecf-cf86-3e8a14e3bae0"
      },
      "execution_count": 98,
      "outputs": [
        {
          "output_type": "execute_result",
          "data": {
            "text/plain": [
              "['cachorro', 1, 2, 3, 'gato']"
            ]
          },
          "metadata": {},
          "execution_count": 98
        }
      ]
    },
    {
      "cell_type": "code",
      "source": [
        "animais.remove(\"gato\")"
      ],
      "metadata": {
        "id": "X4cOh__VWwgX"
      },
      "execution_count": 88,
      "outputs": []
    },
    {
      "cell_type": "code",
      "source": [
        "animais"
      ],
      "metadata": {
        "colab": {
          "base_uri": "https://localhost:8080/"
        },
        "id": "sg_g_T22W1nl",
        "outputId": "eecd31b6-bfa0-4a65-d764-22b4158cc4a2"
      },
      "execution_count": 89,
      "outputs": [
        {
          "output_type": "execute_result",
          "data": {
            "text/plain": [
              "[2, 3, 'gato']"
            ]
          },
          "metadata": {},
          "execution_count": 89
        }
      ]
    },
    {
      "cell_type": "code",
      "source": [
        "animais.insert(0,1)"
      ],
      "metadata": {
        "id": "PXdHHwyFW6dG"
      },
      "execution_count": 90,
      "outputs": []
    },
    {
      "cell_type": "code",
      "source": [
        "animais"
      ],
      "metadata": {
        "colab": {
          "base_uri": "https://localhost:8080/"
        },
        "id": "BQQMLSFlXA5d",
        "outputId": "516441ba-9f0e-44af-a9e6-ce8ea25717d5"
      },
      "execution_count": 91,
      "outputs": [
        {
          "output_type": "execute_result",
          "data": {
            "text/plain": [
              "[1, 2, 3, 'gato']"
            ]
          },
          "metadata": {},
          "execution_count": 91
        }
      ]
    },
    {
      "cell_type": "code",
      "source": [
        "# Especificando o índice onde o valor será colocado\n",
        "animais.insert(0, \"cachorro\")"
      ],
      "metadata": {
        "id": "XJZ7hz-PXChi"
      },
      "execution_count": 94,
      "outputs": []
    },
    {
      "cell_type": "code",
      "source": [
        "animais.remove(\"cachorro\")"
      ],
      "metadata": {
        "id": "_fwKNXtuXI93"
      },
      "execution_count": 96,
      "outputs": []
    },
    {
      "cell_type": "code",
      "source": [
        "animais"
      ],
      "metadata": {
        "colab": {
          "base_uri": "https://localhost:8080/"
        },
        "id": "2FYE2VTjXVMn",
        "outputId": "ae12c80e-14c0-4fee-de51-7bdf9e120786"
      },
      "execution_count": 99,
      "outputs": [
        {
          "output_type": "execute_result",
          "data": {
            "text/plain": [
              "['cachorro', 1, 2, 3, 'gato']"
            ]
          },
          "metadata": {},
          "execution_count": 99
        }
      ]
    },
    {
      "cell_type": "code",
      "source": [
        "## Adicionando mais de um elemento\n",
        "animais.extend([\"cavalo\", \"cobra\"])"
      ],
      "metadata": {
        "id": "g8vreBaUXepo"
      },
      "execution_count": 102,
      "outputs": []
    },
    {
      "cell_type": "code",
      "source": [
        "animais"
      ],
      "metadata": {
        "colab": {
          "base_uri": "https://localhost:8080/"
        },
        "id": "rNynQuuBXxKu",
        "outputId": "9c4dde4f-117e-4b08-a6f2-8666734f8bfb"
      },
      "execution_count": 103,
      "outputs": [
        {
          "output_type": "execute_result",
          "data": {
            "text/plain": [
              "['cachorro', 1, 2, 3, 'gato', 'cavalo', 'cobra']"
            ]
          },
          "metadata": {},
          "execution_count": 103
        }
      ]
    },
    {
      "cell_type": "code",
      "source": [
        "lista = [50, 10, 20, 300, 500]\n",
        "lista"
      ],
      "metadata": {
        "colab": {
          "base_uri": "https://localhost:8080/"
        },
        "id": "Q8qFxmurZA1g",
        "outputId": "d3826818-9a69-4707-e353-90d63e8613ce"
      },
      "execution_count": 110,
      "outputs": [
        {
          "output_type": "execute_result",
          "data": {
            "text/plain": [
              "[50, 10, 20, 300, 500]"
            ]
          },
          "metadata": {},
          "execution_count": 110
        }
      ]
    },
    {
      "cell_type": "code",
      "source": [
        "# ORDERNAR UMA LISTA\n",
        "\n",
        "lista.sort()\n",
        "lista"
      ],
      "metadata": {
        "colab": {
          "base_uri": "https://localhost:8080/"
        },
        "id": "SARiwVQBZYtl",
        "outputId": "c22a710e-e2cf-4cf6-ce8d-4c199e5686ac"
      },
      "execution_count": 112,
      "outputs": [
        {
          "output_type": "execute_result",
          "data": {
            "text/plain": [
              "[10, 20, 50, 300, 500]"
            ]
          },
          "metadata": {},
          "execution_count": 112
        }
      ]
    },
    {
      "cell_type": "code",
      "source": [
        "# RETORNAR O NUMERO MÁXIMO DA LISTA\n",
        "max(lista)"
      ],
      "metadata": {
        "colab": {
          "base_uri": "https://localhost:8080/"
        },
        "id": "QZU40K12Z10q",
        "outputId": "8efabe42-1c57-4aff-d393-3aa9b49c1171"
      },
      "execution_count": 116,
      "outputs": [
        {
          "output_type": "execute_result",
          "data": {
            "text/plain": [
              "500"
            ]
          },
          "metadata": {},
          "execution_count": 116
        }
      ]
    },
    {
      "cell_type": "code",
      "source": [
        "# RETORNAR O NUMERO MINIMO DA LISTA\n",
        "min(lista)"
      ],
      "metadata": {
        "colab": {
          "base_uri": "https://localhost:8080/"
        },
        "id": "CdsgH2xaaVaY",
        "outputId": "00eb6ea6-b16f-48a6-a4f0-f7315d2e3895"
      },
      "execution_count": 117,
      "outputs": [
        {
          "output_type": "execute_result",
          "data": {
            "text/plain": [
              "10"
            ]
          },
          "metadata": {},
          "execution_count": 117
        }
      ]
    },
    {
      "cell_type": "code",
      "source": [
        "# # Retornando o total de elementos dentro de uma lista - COMPRIMENTO DA LISTA\n",
        "len(lista)"
      ],
      "metadata": {
        "colab": {
          "base_uri": "https://localhost:8080/"
        },
        "id": "jap08QHxaaSw",
        "outputId": "33583595-d64b-4b8e-f50a-f87111ac7fa9"
      },
      "execution_count": 118,
      "outputs": [
        {
          "output_type": "execute_result",
          "data": {
            "text/plain": [
              "5"
            ]
          },
          "metadata": {},
          "execution_count": 118
        }
      ]
    },
    {
      "cell_type": "code",
      "source": [
        "lista = [[10,30,50],[\"gato\", \"cachorro\", \"papagaio\"], [\"Arara\", \"formiga\"]]\n",
        "lista"
      ],
      "metadata": {
        "colab": {
          "base_uri": "https://localhost:8080/"
        },
        "id": "VSOZt17Fac-u",
        "outputId": "be3e7bb7-bd95-4a97-fb23-41dca352414d"
      },
      "execution_count": 119,
      "outputs": [
        {
          "output_type": "execute_result",
          "data": {
            "text/plain": [
              "[[10, 30, 50], ['gato', 'cachorro', 'papagaio'], ['Arara', 'formiga']]"
            ]
          },
          "metadata": {},
          "execution_count": 119
        }
      ]
    },
    {
      "cell_type": "code",
      "source": [
        "lista[1][1]"
      ],
      "metadata": {
        "colab": {
          "base_uri": "https://localhost:8080/",
          "height": 35
        },
        "id": "LAdDkaYcbGGV",
        "outputId": "6f24baa7-45a0-4639-ad2e-3a1d90461143"
      },
      "execution_count": 120,
      "outputs": [
        {
          "output_type": "execute_result",
          "data": {
            "text/plain": [
              "'cachorro'"
            ],
            "application/vnd.google.colaboratory.intrinsic+json": {
              "type": "string"
            }
          },
          "metadata": {},
          "execution_count": 120
        }
      ]
    },
    {
      "cell_type": "code",
      "source": [
        "lista[0][2]"
      ],
      "metadata": {
        "colab": {
          "base_uri": "https://localhost:8080/"
        },
        "id": "m157kTOrbvge",
        "outputId": "60e51335-da11-4f42-f832-d7a0101ef24f"
      },
      "execution_count": 121,
      "outputs": [
        {
          "output_type": "execute_result",
          "data": {
            "text/plain": [
              "50"
            ]
          },
          "metadata": {},
          "execution_count": 121
        }
      ]
    },
    {
      "cell_type": "code",
      "source": [
        "len(lista)"
      ],
      "metadata": {
        "colab": {
          "base_uri": "https://localhost:8080/"
        },
        "id": "0USVBmOpb0zu",
        "outputId": "61a52a58-4cc4-4980-d6d1-2ea73b5b34b4"
      },
      "execution_count": 122,
      "outputs": [
        {
          "output_type": "execute_result",
          "data": {
            "text/plain": [
              "3"
            ]
          },
          "metadata": {},
          "execution_count": 122
        }
      ]
    },
    {
      "cell_type": "code",
      "source": [
        "animais"
      ],
      "metadata": {
        "colab": {
          "base_uri": "https://localhost:8080/"
        },
        "id": "LaUsaNl5cE6H",
        "outputId": "a6633219-83c8-4745-8275-78f4ccf94c53"
      },
      "execution_count": 123,
      "outputs": [
        {
          "output_type": "execute_result",
          "data": {
            "text/plain": [
              "['cachorro', 1, 2, 3, 'gato', 'cavalo', 'cobra']"
            ]
          },
          "metadata": {},
          "execution_count": 123
        }
      ]
    },
    {
      "cell_type": "code",
      "source": [
        "animais[0] = \"formiga\""
      ],
      "metadata": {
        "id": "Zlfnh1YkcH3S"
      },
      "execution_count": 124,
      "outputs": []
    },
    {
      "cell_type": "code",
      "source": [
        "animais"
      ],
      "metadata": {
        "colab": {
          "base_uri": "https://localhost:8080/"
        },
        "id": "D1j1404McLYH",
        "outputId": "f754f7ee-ad14-4903-c11e-2995e1dfd2aa"
      },
      "execution_count": 125,
      "outputs": [
        {
          "output_type": "execute_result",
          "data": {
            "text/plain": [
              "['formiga', 1, 2, 3, 'gato', 'cavalo', 'cobra']"
            ]
          },
          "metadata": {},
          "execution_count": 125
        }
      ]
    },
    {
      "cell_type": "markdown",
      "source": [
        "# Tuplas"
      ],
      "metadata": {
        "id": "XYBKTrtVckQa"
      }
    },
    {
      "cell_type": "code",
      "source": [
        "# As tuplas usam parenteses como sintaxe - SÃO IMUTAVÉIS\n",
        "tp = (\"Banana\", \"Maçã\", 10, 50)\n",
        "tp"
      ],
      "metadata": {
        "colab": {
          "base_uri": "https://localhost:8080/"
        },
        "id": "TkNrbU10cMLV",
        "outputId": "e41a589c-ee9f-48bf-e0f1-289f79938cc5"
      },
      "execution_count": 127,
      "outputs": [
        {
          "output_type": "execute_result",
          "data": {
            "text/plain": [
              "('Banana', 'Maçã', 10, 50)"
            ]
          },
          "metadata": {},
          "execution_count": 127
        }
      ]
    },
    {
      "cell_type": "code",
      "source": [
        "type(tp)"
      ],
      "metadata": {
        "colab": {
          "base_uri": "https://localhost:8080/"
        },
        "id": "YO-vACMVctA4",
        "outputId": "9cf19a53-cfcd-429f-ea38-d25a2f077a56"
      },
      "execution_count": 128,
      "outputs": [
        {
          "output_type": "execute_result",
          "data": {
            "text/plain": [
              "tuple"
            ]
          },
          "metadata": {},
          "execution_count": 128
        }
      ]
    },
    {
      "cell_type": "code",
      "source": [
        "\"Banana\" in tp"
      ],
      "metadata": {
        "colab": {
          "base_uri": "https://localhost:8080/"
        },
        "id": "y1OMyVe7dDU_",
        "outputId": "78be9bf2-c6cb-480f-f24a-b032c9ad136d"
      },
      "execution_count": 129,
      "outputs": [
        {
          "output_type": "execute_result",
          "data": {
            "text/plain": [
              "True"
            ]
          },
          "metadata": {},
          "execution_count": 129
        }
      ]
    },
    {
      "cell_type": "code",
      "source": [
        "len(tp)"
      ],
      "metadata": {
        "colab": {
          "base_uri": "https://localhost:8080/"
        },
        "id": "_NVVh9UWdhUI",
        "outputId": "2af8d52b-4185-4545-ffa0-5ca1b768a78e"
      },
      "execution_count": 130,
      "outputs": [
        {
          "output_type": "execute_result",
          "data": {
            "text/plain": [
              "4"
            ]
          },
          "metadata": {},
          "execution_count": 130
        }
      ]
    },
    {
      "cell_type": "code",
      "source": [
        "tp[0] = \"formiga\""
      ],
      "metadata": {
        "colab": {
          "base_uri": "https://localhost:8080/",
          "height": 144
        },
        "id": "3c-VitlhdkUI",
        "outputId": "fdc7a576-41f6-424a-c81d-41deefd6026e"
      },
      "execution_count": 131,
      "outputs": [
        {
          "output_type": "error",
          "ename": "TypeError",
          "evalue": "'tuple' object does not support item assignment",
          "traceback": [
            "\u001b[0;31m---------------------------------------------------------------------------\u001b[0m",
            "\u001b[0;31mTypeError\u001b[0m                                 Traceback (most recent call last)",
            "\u001b[0;32m/tmp/ipython-input-2349726259.py\u001b[0m in \u001b[0;36m<cell line: 0>\u001b[0;34m()\u001b[0m\n\u001b[0;32m----> 1\u001b[0;31m \u001b[0mtp\u001b[0m\u001b[0;34m[\u001b[0m\u001b[0;36m0\u001b[0m\u001b[0;34m]\u001b[0m \u001b[0;34m=\u001b[0m \u001b[0;34m\"formiga\"\u001b[0m\u001b[0;34m\u001b[0m\u001b[0;34m\u001b[0m\u001b[0m\n\u001b[0m",
            "\u001b[0;31mTypeError\u001b[0m: 'tuple' object does not support item assignment"
          ]
        }
      ]
    },
    {
      "cell_type": "markdown",
      "source": [
        "# Dicionários"
      ],
      "metadata": {
        "id": "81ve_IcKdps7"
      }
    },
    {
      "cell_type": "code",
      "source": [
        "# Para criar um dicionário utilizamos as chaves {}\n",
        "# dicionário trabalha com conceito de chave e valor\n",
        "\n",
        "\n",
        "dc = {\"Maçã\":20, \"Banana\":10, \"Laranja\":15, \"Uva\":5}\n",
        "dc"
      ],
      "metadata": {
        "colab": {
          "base_uri": "https://localhost:8080/"
        },
        "id": "oibgeTmedtEr",
        "outputId": "e52cdc23-d3bb-4620-b816-09ee49d17c86"
      },
      "execution_count": 132,
      "outputs": [
        {
          "output_type": "execute_result",
          "data": {
            "text/plain": [
              "{'Maçã': 20, 'Banana': 10, 'Laranja': 15, 'Uva': 5}"
            ]
          },
          "metadata": {},
          "execution_count": 132
        }
      ]
    },
    {
      "cell_type": "code",
      "source": [
        "# Retornando todas as chaves\n",
        "\n",
        "dc.keys()"
      ],
      "metadata": {
        "colab": {
          "base_uri": "https://localhost:8080/"
        },
        "id": "GSlvkVrweUQS",
        "outputId": "e89c3c70-7355-4b03-f86d-4aaf9fd73bb4"
      },
      "execution_count": 133,
      "outputs": [
        {
          "output_type": "execute_result",
          "data": {
            "text/plain": [
              "dict_keys(['Maçã', 'Banana', 'Laranja', 'Uva'])"
            ]
          },
          "metadata": {},
          "execution_count": 133
        }
      ]
    },
    {
      "cell_type": "code",
      "source": [
        "# Retornando todos os valores\n",
        "dc.values()"
      ],
      "metadata": {
        "colab": {
          "base_uri": "https://localhost:8080/"
        },
        "id": "JzHK4GQdecM6",
        "outputId": "ec8eb6cf-18a2-4352-b12b-b0749d93f815"
      },
      "execution_count": 135,
      "outputs": [
        {
          "output_type": "execute_result",
          "data": {
            "text/plain": [
              "dict_values([20, 10, 15, 5])"
            ]
          },
          "metadata": {},
          "execution_count": 135
        }
      ]
    },
    {
      "cell_type": "code",
      "source": [
        "dc[\"Maçã\"] = 12"
      ],
      "metadata": {
        "id": "ovZ8iLgnefqf"
      },
      "execution_count": 136,
      "outputs": []
    },
    {
      "cell_type": "code",
      "source": [
        "# Verifica se a chave está no dicionário e retorna o valor\n",
        "# Se não encontrar a chave, retorna o que está no segundo parâmetro\n",
        "\n",
        "dc.get(\"Morango\", \"Nao_Existe\")"
      ],
      "metadata": {
        "colab": {
          "base_uri": "https://localhost:8080/",
          "height": 35
        },
        "id": "emv4Orypfbx6",
        "outputId": "936c8493-8dd0-489c-b11b-6a20acd14c36"
      },
      "execution_count": 139,
      "outputs": [
        {
          "output_type": "execute_result",
          "data": {
            "text/plain": [
              "'Nao_Existe'"
            ],
            "application/vnd.google.colaboratory.intrinsic+json": {
              "type": "string"
            }
          },
          "metadata": {},
          "execution_count": 139
        }
      ]
    },
    {
      "cell_type": "code",
      "source": [
        "# Se tiver a chave retorna o valor, se não tiver, ele inclui a chave do valor especificado\n",
        "dc.setdefault(\"Morango\", 25)"
      ],
      "metadata": {
        "colab": {
          "base_uri": "https://localhost:8080/"
        },
        "id": "s7j9iY5qglLe",
        "outputId": "205985cd-e47f-45d3-af12-9248080f4564"
      },
      "execution_count": 140,
      "outputs": [
        {
          "output_type": "execute_result",
          "data": {
            "text/plain": [
              "25"
            ]
          },
          "metadata": {},
          "execution_count": 140
        }
      ]
    },
    {
      "cell_type": "code",
      "source": [
        "# Deletando um elemento do dicionário\n",
        "\n",
        "dc.pop(\"Maçã\")"
      ],
      "metadata": {
        "colab": {
          "base_uri": "https://localhost:8080/"
        },
        "id": "ejrbKEW8iaDj",
        "outputId": "9a67db1a-c237-40ea-c194-fa8da0a93674"
      },
      "execution_count": 141,
      "outputs": [
        {
          "output_type": "execute_result",
          "data": {
            "text/plain": [
              "12"
            ]
          },
          "metadata": {},
          "execution_count": 141
        }
      ]
    },
    {
      "cell_type": "code",
      "source": [
        "dc"
      ],
      "metadata": {
        "colab": {
          "base_uri": "https://localhost:8080/"
        },
        "id": "0kV_lWrSih9i",
        "outputId": "58a3cbcc-78f6-4cc1-aaa8-c0e77e7dc28a"
      },
      "execution_count": 142,
      "outputs": [
        {
          "output_type": "execute_result",
          "data": {
            "text/plain": [
              "{'Banana': 10, 'Laranja': 15, 'Uva': 5, 'Morango': 25}"
            ]
          },
          "metadata": {},
          "execution_count": 142
        }
      ]
    },
    {
      "cell_type": "markdown",
      "source": [
        "# Estruturas Condicionais\n"
      ],
      "metadata": {
        "id": "HEv5Xr16ip5a"
      }
    },
    {
      "cell_type": "code",
      "source": [
        "idade = 18\n",
        "if idade == 18:\n",
        "  print(\"Você é maior de idade\")"
      ],
      "metadata": {
        "colab": {
          "base_uri": "https://localhost:8080/"
        },
        "id": "adKrvBh9it-q",
        "outputId": "d43a1ae9-80ad-4919-ef4e-a94f6549f349"
      },
      "execution_count": 150,
      "outputs": [
        {
          "output_type": "stream",
          "name": "stdout",
          "text": [
            "Você é maior de idade\n"
          ]
        }
      ]
    },
    {
      "cell_type": "code",
      "source": [
        "if idade == 18:\n",
        "  print(\"Você é maior de idade\")\n",
        "else:\n",
        "  print(\"Você não tem 18 anos\")"
      ],
      "metadata": {
        "colab": {
          "base_uri": "https://localhost:8080/"
        },
        "id": "VAuSbvhdjX_0",
        "outputId": "02dea62f-50e6-4f0a-cca3-6b5fefd75b31"
      },
      "execution_count": 151,
      "outputs": [
        {
          "output_type": "stream",
          "name": "stdout",
          "text": [
            "Você é maior de idade\n"
          ]
        }
      ]
    },
    {
      "cell_type": "code",
      "source": [
        "idade = 24\n",
        "if idade < 18:\n",
        "  print(\"Você é menor de idade\")\n",
        "\n",
        "elif idade >= 18 and idade < 65:\n",
        "  print(\"Você é adulto\")\n",
        "\n",
        "else:\n",
        "  print(\"Você é idoso\")\n"
      ],
      "metadata": {
        "colab": {
          "base_uri": "https://localhost:8080/"
        },
        "id": "JpYc8JlCkRnc",
        "outputId": "b8306e5b-72ed-4d12-9477-263686f71ad3"
      },
      "execution_count": 154,
      "outputs": [
        {
          "output_type": "stream",
          "name": "stdout",
          "text": [
            "Você é adulto\n"
          ]
        }
      ]
    },
    {
      "cell_type": "code",
      "source": [],
      "metadata": {
        "id": "Lw5-GuHHkUz5"
      },
      "execution_count": null,
      "outputs": []
    }
  ]
}